{
  "nbformat": 4,
  "nbformat_minor": 0,
  "metadata": {
    "colab": {
      "name": "01- Overview .ipynb",
      "provenance": []
    },
    "kernelspec": {
      "name": "python3",
      "display_name": "Python 3"
    }
  },
  "cells": [
    {
      "cell_type": "markdown",
      "metadata": {
        "id": "wiyyifHgAB6F",
        "colab_type": "text"
      },
      "source": [
        "*Written by Cynthia H.M. (@buildwithcycy) for education purposes and reinforcing understanding of NLP Topics. Feedback always welcome :)*"
      ]
    },
    {
      "cell_type": "markdown",
      "metadata": {
        "id": "Ti0MCdQkz83J",
        "colab_type": "text"
      },
      "source": [
        "#Overview"
      ]
    },
    {
      "cell_type": "markdown",
      "metadata": {
        "id": "Dk3dyKICz_KR",
        "colab_type": "text"
      },
      "source": [
        "Machine learning is the field that uses statistics to create computer programs which access data to identify patterns and make predictions on new (unseen) data. Natural Language Processing (NLP) is the subfield which is concerned with \"teaching\" machines how to understand language by generally using texts as data.</br> </br> While significant progress has been made, understanding the human language remains a complex task. It is generally simple for humans to acquire language through different interactions in society. However, it is hard to write computer programs which process sentences and grasp the contextual information of sentences.  "
      ]
    },
    {
      "cell_type": "markdown",
      "metadata": {
        "id": "67RIzW_jLYbl",
        "colab_type": "text"
      },
      "source": [
        "To get an understanding of the problem, let's start with an example. Consider Alex, a young entrepreneur who is working on an agricultural bot which unexperienced urban farmers can use to get answers that can help them grow their plants.\n",
        "Alex begins with a question that most farmers may ask: \"When can I grow tomatoes in my city\"?\n",
        "\n",
        "He decides to build a simple program first and use four data points in order to decide between growing tomatoes in Spring or Summer. The four data points are the *current month of the year*, the *rainfall quantity*, the *prices of fertilizers*, and the *variety of the tomates to grow*). Alex travels to a rural city and collects information from local farmers over a period of year (A great vacation for him, of course). The data that he has collected is called historical data and Alex uses it to build a simple network to predict the best period to grow tomatoes.\n",
        "<img  src= 'https://drive.google.com/uc?id=1JbypVckHMLIXS3XWWcUmIFCz4OduIFAJ' width=\"400\" height=\"400\">\n"
      ]
    },
    {
      "cell_type": "markdown",
      "metadata": {
        "id": "GB6WjNNufiYX",
        "colab_type": "text"
      },
      "source": [
        "#**Problem**"
      ]
    },
    {
      "cell_type": "markdown",
      "metadata": {
        "id": "xi-G3pCY02Pn",
        "colab_type": "text"
      },
      "source": [
        "These four data points can be used to build a simple network which can predict the best period to grow tomatoes. <br/> However, Alex realizes that the users of his farming bot will actually be asking questions such as \"It looked pretty sunny in the last few weeks, is it a good time to grow cherry tomatoes ?\"...Right. This is getting complex. Alex has to write a program which understands the meaning of each word in a given sentence  (e.g. a tomato = plant) and the importance of certain words in formulating an answer (e.g. sunny weather). This program also has to understand how words follow each other in a sentence. When we see a sentence ending in \"good time to grow...\", we can expect that the next word will be a name, specifically, the name of an organism, a plant, a city, or even a business. Human brains are very good at understanding the context in a sentence. By paying attention to the conversation, we can guess that the next word may be related to farming. \n",
        "</br> Alex has to deal with three principal components to build his solution:\n",
        " \n",
        "\n",
        "*   Direct meaning of a word\n",
        "*   Understanding the sequence of words\n",
        "*   Paying attention to the context of a conversation\n",
        "\n",
        "Fortunately, Alex knows he can store a dictionnary to indicate the direct meaning of a word. However, he is not certain on how to approach understanding the sequence of words nor paying attention to context. Fortunately, Alex  meets a machine learning scientist who tells him about other types of networks: Recurrent Neural Networks (RNNs) and Long Short Term Memory Networks (LSTMs).\n",
        "\n",
        "In the next notebook, I will be going over how those types of neural networks work."
      ]
    },
    {
      "cell_type": "markdown",
      "metadata": {
        "id": "lOianUbg7Ap3",
        "colab_type": "text"
      },
      "source": [
        "#**Snacks**"
      ]
    },
    {
      "cell_type": "markdown",
      "metadata": {
        "id": "FLVgY2Yp_HZX",
        "colab_type": "text"
      },
      "source": [
        "Not so fast! Have a quick snack before you head to the next Colab notebook.\n",
        "\n",
        "* 🍩 [A introduction to Natural Language Processing](https://towardsdatascience.com/your-guide-to-natural-language-processing-nlp-48ea2511f6e1)"
      ]
    }
  ]
}